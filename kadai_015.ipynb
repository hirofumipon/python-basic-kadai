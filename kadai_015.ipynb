{
  "nbformat": 4,
  "nbformat_minor": 0,
  "metadata": {
    "colab": {
      "provenance": [],
      "authorship_tag": "ABX9TyOJrHit5xE2Xjpo5mLPsK8f",
      "include_colab_link": true
    },
    "kernelspec": {
      "name": "python3",
      "display_name": "Python 3"
    },
    "language_info": {
      "name": "python"
    }
  },
  "cells": [
    {
      "cell_type": "markdown",
      "metadata": {
        "id": "view-in-github",
        "colab_type": "text"
      },
      "source": [
        "<a href=\"https://colab.research.google.com/github/hirofumipon/python-basic-kadai/blob/main/kadai_015.ipynb\" target=\"_parent\"><img src=\"https://colab.research.google.com/assets/colab-badge.svg\" alt=\"Open In Colab\"/></a>"
      ]
    },
    {
      "cell_type": "code",
      "execution_count": 3,
      "metadata": {
        "colab": {
          "base_uri": "https://localhost:8080/"
        },
        "id": "TNNB3bM3x-B5",
        "outputId": "05a59d82-02e7-49b2-f63a-ab18fade3a08"
      },
      "outputs": [
        {
          "output_type": "stream",
          "name": "stdout",
          "text": [
            "侍太郎\n",
            "25\n"
          ]
        }
      ],
      "source": [
        "class Human:\n",
        "  def __init__(self, name, age):\n",
        "    self.name=name\n",
        "    self.age=age\n",
        "\n",
        "  def set_name(self, name):\n",
        "    self.name=name\n",
        "  def show_name(self):\n",
        "    print(self.name)\n",
        "  def set_age(self, age):\n",
        "    self.age=age\n",
        "  def show_name(self):\n",
        "    print(self.age)\n",
        "\n",
        "human=Human(\"侍太郎\", 25)\n",
        "\n",
        "print(human.name)\n",
        "print(human.age)\n"
      ]
    },
    {
      "cell_type": "code",
      "source": [],
      "metadata": {
        "id": "yRUeWbqcz4_e"
      },
      "execution_count": null,
      "outputs": []
    }
  ]
}