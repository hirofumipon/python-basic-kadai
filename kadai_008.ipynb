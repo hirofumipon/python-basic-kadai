{
  "nbformat": 4,
  "nbformat_minor": 0,
  "metadata": {
    "colab": {
      "provenance": [],
      "authorship_tag": "ABX9TyP6nMvfESCsqwVC9fcgHEtg",
      "include_colab_link": true
    },
    "kernelspec": {
      "name": "python3",
      "display_name": "Python 3"
    },
    "language_info": {
      "name": "python"
    }
  },
  "cells": [
    {
      "cell_type": "markdown",
      "metadata": {
        "id": "view-in-github",
        "colab_type": "text"
      },
      "source": [
        "<a href=\"https://colab.research.google.com/github/hirofumipon/python-basic-kadai/blob/main/kadai_008.ipynb\" target=\"_parent\"><img src=\"https://colab.research.google.com/assets/colab-badge.svg\" alt=\"Open In Colab\"/></a>"
      ]
    },
    {
      "cell_type": "code",
      "execution_count": 2,
      "metadata": {
        "colab": {
          "base_uri": "https://localhost:8080/"
        },
        "id": "IzxdpVADCpt6",
        "outputId": "8779528e-41e4-4ed6-ecbc-a256ce017ef0"
      },
      "outputs": [
        {
          "output_type": "stream",
          "name": "stdout",
          "text": [
            "30\n",
            "FizzBuzz\n"
          ]
        }
      ],
      "source": [
        "import random\n",
        "\n",
        "var=random.randint(1,100)\n",
        "\n",
        "print(var)\n",
        "\n",
        "if var%15==0:\n",
        "  print(\"FizzBuzz\")\n",
        "elif var%3==0:\n",
        "  print(\"Fizz\")\n",
        "elif var%5==0:\n",
        "  print(\"Buzz\")\n",
        "else:\n",
        "  print(var)"
      ]
    },
    {
      "cell_type": "code",
      "source": [],
      "metadata": {
        "id": "Q8nErt5kEXbH"
      },
      "execution_count": null,
      "outputs": []
    }
  ]
}