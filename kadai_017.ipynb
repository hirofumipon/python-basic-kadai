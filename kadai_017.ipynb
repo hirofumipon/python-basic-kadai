{
  "nbformat": 4,
  "nbformat_minor": 0,
  "metadata": {
    "colab": {
      "provenance": [],
      "authorship_tag": "ABX9TyPvPfrLqGGbTr/caWW+vVPv",
      "include_colab_link": true
    },
    "kernelspec": {
      "name": "python3",
      "display_name": "Python 3"
    },
    "language_info": {
      "name": "python"
    }
  },
  "cells": [
    {
      "cell_type": "markdown",
      "metadata": {
        "id": "view-in-github",
        "colab_type": "text"
      },
      "source": [
        "<a href=\"https://colab.research.google.com/github/hirofumipon/python-basic-kadai/blob/main/kadai_017.ipynb\" target=\"_parent\"><img src=\"https://colab.research.google.com/assets/colab-badge.svg\" alt=\"Open In Colab\"/></a>"
      ]
    },
    {
      "cell_type": "code",
      "execution_count": 32,
      "metadata": {
        "colab": {
          "base_uri": "https://localhost:8080/"
        },
        "id": "dJHAeSBuHcM4",
        "outputId": "3acae510-4eab-4edd-a6b0-48c79f1a889d"
      },
      "outputs": [
        {
          "output_type": "stream",
          "name": "stdout",
          "text": [
            "侍太郎 24\n",
            "野口紘史 22\n",
            "大人ではありません\n"
          ]
        }
      ],
      "source": [
        "class Human:\n",
        "  def __init__(self, name, age):\n",
        "    self.name=name\n",
        "    self.age=age\n",
        "\n",
        "  def check_adult(self):\n",
        "    if self.age>=20:\n",
        "      print(self.name, self.age)\n",
        "    else:\n",
        "      print(\"大人ではありません\")\n",
        "\n",
        "samurai=Human(\"侍太郎\", 24)\n",
        "noguchi=Human(\"野口紘史\", 22)\n",
        "kaneko=Human(\"かねこかな\", 18)\n",
        "\n",
        "human=[samurai, noguchi, kaneko]\n",
        "\n",
        "for person in human:\n",
        "  person.check_adult()"
      ]
    },
    {
      "cell_type": "code",
      "source": [],
      "metadata": {
        "id": "Di_xLcLwzvsn"
      },
      "execution_count": null,
      "outputs": []
    }
  ]
}